{
 "cells": [
  {
   "cell_type": "code",
   "execution_count": 190,
   "metadata": {},
   "outputs": [],
   "source": [
    "import numpy as np"
   ]
  },
  {
   "cell_type": "code",
   "execution_count": 191,
   "metadata": {},
   "outputs": [],
   "source": [
    "x=np.array([1,2,3,4,5])\n",
    "x.dtype,x.size,x.shape\n",
    "\n",
    "x2=np.array([7,4,2,2,5])"
   ]
  },
  {
   "cell_type": "code",
   "execution_count": 192,
   "metadata": {},
   "outputs": [
    {
     "data": {
      "text/plain": [
       "array([[ 3,  5,  7,  9, 11],\n",
       "       [10, 10, 10, 10, 13]])"
      ]
     },
     "execution_count": 192,
     "metadata": {},
     "output_type": "execute_result"
    }
   ],
   "source": [
    "y=np.array([\n",
    "    [2,3,4,5,6],[9,8,7,6,8]\n",
    "])\n",
    "y.dtype,y.size,y.shape\n",
    "y1=np.array([1,2,3,4,5])\n",
    "\n",
    "y+y1"
   ]
  },
  {
   "cell_type": "code",
   "execution_count": 193,
   "metadata": {},
   "outputs": [
    {
     "data": {
      "text/plain": [
       "array([ 8,  6,  5,  6, 10])"
      ]
     },
     "execution_count": 193,
     "metadata": {},
     "output_type": "execute_result"
    }
   ],
   "source": [
    "y+3\n",
    "x+x2 # adding the elements to the index and it does not work if the shapes are same"
   ]
  },
  {
   "cell_type": "code",
   "execution_count": 194,
   "metadata": {},
   "outputs": [
    {
     "data": {
      "text/plain": [
       "array([[[ 1,  7,  7,  6],\n",
       "        [ 1,  9,  9,  8],\n",
       "        [ 6, 11,  8,  5]],\n",
       "\n",
       "       [[-4,  7,  7,  6],\n",
       "        [ 1,  5,  9,  8],\n",
       "        [ 6, 11,  8,  5]]])"
      ]
     },
     "execution_count": 194,
     "metadata": {},
     "output_type": "execute_result"
    }
   ],
   "source": [
    "z1=np.array([\n",
    "    [\n",
    "        [2,1,3,4],\n",
    "        [2,3,5,6],\n",
    "        [7,5,4,3]\n",
    "    ],\n",
    "    [\n",
    "        [-3,1,3,4],\n",
    "        [2,-1,5,6],\n",
    "        [7,5,4,3]\n",
    "    ]\n",
    "])\n",
    "z2=np.array([\n",
    "    [1,2,3,4]\n",
    "])\n",
    "z1+z2\n",
    "z3=np.array([1])\n",
    "z1+z3\n",
    "z4=np.array([\n",
    "    [1,8,4,2],\n",
    "    [1,9,4,2],\n",
    "    [1,8,4,2]\n",
    "])\n",
    "z1+z4\n",
    "z5=np.array([-1,6,4,2])\n",
    "z1+z5\n",
    "\n",
    "\n",
    "\n"
   ]
  },
  {
   "cell_type": "code",
   "execution_count": 195,
   "metadata": {},
   "outputs": [
    {
     "data": {
      "text/plain": [
       "(2, 1, 3, 5)"
      ]
     },
     "execution_count": 195,
     "metadata": {},
     "output_type": "execute_result"
    }
   ],
   "source": [
    "# create four dimenstonal array\n",
    "\n",
    "z1=np.array([\n",
    "    [\n",
    "        [\n",
    "        [2,1,3,4,3],\n",
    "        [2,3,5,6,7],\n",
    "        [7,5,4,3,9]\n",
    "        ]\n",
    "    ],\n",
    "    [\n",
    "        [\n",
    "        [2,1,3,4,0],\n",
    "        [2,3,5,6,2],\n",
    "        [7,5,4,3,7]\n",
    "        ]\n",
    "    ]\n",
    "])\n",
    "z1.shape\n"
   ]
  }
 ],
 "metadata": {
  "kernelspec": {
   "display_name": "Python 3",
   "language": "python",
   "name": "python3"
  },
  "language_info": {
   "codemirror_mode": {
    "name": "ipython",
    "version": 3
   },
   "file_extension": ".py",
   "mimetype": "text/x-python",
   "name": "python",
   "nbconvert_exporter": "python",
   "pygments_lexer": "ipython3",
   "version": "3.10.8"
  }
 },
 "nbformat": 4,
 "nbformat_minor": 2
}
