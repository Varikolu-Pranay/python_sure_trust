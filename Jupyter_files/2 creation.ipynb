{
 "cells": [
  {
   "cell_type": "code",
   "execution_count": 72,
   "metadata": {},
   "outputs": [
    {
     "name": "stdout",
     "output_type": "stream",
     "text": [
      "[[[0 0 0 0]\n",
      "  [0 0 0 0]\n",
      "  [0 0 0 0]]\n",
      "\n",
      " [[0 0 0 0]\n",
      "  [0 0 0 0]\n",
      "  [0 0 0 0]]]\n"
     ]
    }
   ],
   "source": [
    "import numpy as np\n",
    "x=np.zeros((2,3,4)) # float data type\n",
    "x.dtype=int\n",
    "print(x)"
   ]
  },
  {
   "cell_type": "code",
   "execution_count": 73,
   "metadata": {},
   "outputs": [
    {
     "name": "stdout",
     "output_type": "stream",
     "text": [
      "[[[5 5 5 5]\n",
      "  [5 5 3 5]\n",
      "  [5 5 5 5]]\n",
      "\n",
      " [[5 5 5 5]\n",
      "  [5 5 5 5]\n",
      "  [5 5 5 5]]]\n"
     ]
    }
   ],
   "source": [
    "y=np.full((2,3,4),5) # float data type\n",
    "y[0][1][2]=3\n",
    "\n",
    "print(y)"
   ]
  },
  {
   "cell_type": "code",
   "execution_count": 74,
   "metadata": {},
   "outputs": [
    {
     "name": "stdout",
     "output_type": "stream",
     "text": [
      "(2, 3, 4)\n"
     ]
    },
    {
     "data": {
      "text/plain": [
       "array([[[ 3.,  2.,  4.,  5.],\n",
       "        [ 3.,  4.,  6.,  7.],\n",
       "        [ 8.,  6.,  5.,  4.]],\n",
       "\n",
       "       [[-2.,  2.,  4.,  5.],\n",
       "        [ 3.,  0.,  6.,  7.],\n",
       "        [ 8.,  6.,  5.,  4.]]])"
      ]
     },
     "execution_count": 74,
     "metadata": {},
     "output_type": "execute_result"
    }
   ],
   "source": [
    "z1=np.array([\n",
    "    [\n",
    "        [2,1,3,4],\n",
    "        [2,3,5,6],\n",
    "        [7,5,4,3]\n",
    "    ],\n",
    "    [\n",
    "        [-3,1,3,4],\n",
    "        [2,-1,5,6],\n",
    "        [7,5,4,3]\n",
    "    ]\n",
    "])\n",
    "print(z1.shape)\n",
    "\n",
    "z1+np.ones((1,3,1))"
   ]
  },
  {
   "cell_type": "code",
   "execution_count": 75,
   "metadata": {},
   "outputs": [
    {
     "data": {
      "text/plain": [
       "array([1, 3, 5, 7, 9])"
      ]
     },
     "execution_count": 75,
     "metadata": {},
     "output_type": "execute_result"
    }
   ],
   "source": [
    "x=np.arange(1,10,2)\n",
    "x"
   ]
  },
  {
   "cell_type": "code",
   "execution_count": 76,
   "metadata": {},
   "outputs": [
    {
     "data": {
      "text/plain": [
       "array([[[ 6., 10.],\n",
       "        [ 5.,  8.],\n",
       "        [ 0.,  8.],\n",
       "        [ 1.,  4.]],\n",
       "\n",
       "       [[ 7.,  8.],\n",
       "        [ 6.,  1.],\n",
       "        [ 4.,  2.],\n",
       "        [ 8.,  2.]]])"
      ]
     },
     "execution_count": 76,
     "metadata": {},
     "output_type": "execute_result"
    }
   ],
   "source": [
    "# np.random.randn(10)  # submodule for numpy\n",
    "(np.random.random((2,4,2))*10).round()\n"
   ]
  },
  {
   "cell_type": "code",
   "execution_count": 77,
   "metadata": {},
   "outputs": [
    {
     "name": "stdout",
     "output_type": "stream",
     "text": [
      "[[[-97 -16]\n",
      "  [-88 -72]\n",
      "  [ 96  52]\n",
      "  [ 82 -72]]\n",
      "\n",
      " [[ 95 -14]\n",
      "  [ -9  72]\n",
      "  [-61  44]\n",
      "  [ 67  38]]]\n"
     ]
    }
   ],
   "source": [
    "x=((np.random.random((2,4,2))*200)-100) # from -100 to 100 random values\n",
    "x=np.array(x,dtype=int)\n",
    "x.max(), x.min(),x.sum(),x.mean()\n",
    "print(x)"
   ]
  },
  {
   "cell_type": "code",
   "execution_count": 81,
   "metadata": {},
   "outputs": [
    {
     "data": {
      "text/plain": [
       "array([[[ 2,  1],\n",
       "        [ 1,  2]],\n",
       "\n",
       "       [[ 2, -1],\n",
       "        [ 1,  5]]])"
      ]
     },
     "execution_count": 81,
     "metadata": {},
     "output_type": "execute_result"
    }
   ],
   "source": [
    "o = np.array([\n",
    "    [\n",
    "        [2,1,5,3],\n",
    "        [1,2,3,5],\n",
    "        [9,5,0,3]\n",
    "    ],\n",
    "    [\n",
    "        [2,-1,3,3],\n",
    "        [1,5,3,2],\n",
    "        [4,3,0,5]\n",
    "    ]\n",
    "])\n",
    "\n",
    "o[:,0:2,0:2]\n",
    "\n",
    "# generate 3 random +ve integers in range [2,6), then use them as shape to create a 3d array,\n",
    "# from that 3d array print out the last 2 indexes of each of the sub lists"
   ]
  },
  {
   "cell_type": "code",
   "execution_count": 108,
   "metadata": {},
   "outputs": [
    {
     "data": {
      "text/plain": [
       "array([[[11.7750892 ,  2.39810487,  7.84270239],\n",
       "        [-1.71752946,  6.7719998 , 13.41131138],\n",
       "        [ 8.17855941, -3.3533934 , 10.84038616]],\n",
       "\n",
       "       [[12.20521813, -2.13181088,  6.67311602],\n",
       "        [ 2.67833181,  8.81261144,  9.45872618],\n",
       "        [ 1.91073959, -3.6959193 , -3.41252482]]])"
      ]
     },
     "execution_count": 108,
     "metadata": {},
     "output_type": "execute_result"
    }
   ],
   "source": [
    "x=(np.random.random((2,3,3))*20)-6\n",
    "x"
   ]
  },
  {
   "cell_type": "code",
   "execution_count": null,
   "metadata": {},
   "outputs": [],
   "source": [
    "y=(np.random.random((3,3,4))*4+2).round()\n",
    "\n"
   ]
  }
 ],
 "metadata": {
  "kernelspec": {
   "display_name": "Python 3",
   "language": "python",
   "name": "python3"
  },
  "language_info": {
   "codemirror_mode": {
    "name": "ipython",
    "version": 3
   },
   "file_extension": ".py",
   "mimetype": "text/x-python",
   "name": "python",
   "nbconvert_exporter": "python",
   "pygments_lexer": "ipython3",
   "version": "3.10.8"
  }
 },
 "nbformat": 4,
 "nbformat_minor": 2
}
